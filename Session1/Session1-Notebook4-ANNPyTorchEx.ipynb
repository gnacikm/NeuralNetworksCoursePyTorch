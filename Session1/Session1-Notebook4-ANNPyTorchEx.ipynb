{
 "cells": [
  {
   "cell_type": "markdown",
   "metadata": {
    "id": "kjgrP2uCWJa3"
   },
   "source": [
    "# GPU in colab\n",
    "First, you'll need to enable GPUs for the notebook:\n",
    "*   Navigate to Edit→Notebook Settings\n",
    "*   select GPU from the Hardware Accelerator list\n"
   ]
  },
  {
   "cell_type": "markdown",
   "metadata": {
    "id": "AxAN2iRc8h2a"
   },
   "source": [
    "# Importing Packages"
   ]
  },
  {
   "cell_type": "code",
   "execution_count": null,
   "metadata": {
    "colab": {
     "base_uri": "https://localhost:8080/"
    },
    "executionInfo": {
     "elapsed": 5385,
     "status": "ok",
     "timestamp": 1737296609138,
     "user": {
      "displayName": "Michal Gnacik",
      "userId": "05693853346063217104"
     },
     "user_tz": 0
    },
    "id": "qnm7iwZ68WSM",
    "outputId": "7c4f2425-aec8-482f-8e35-533d260b3a75"
   },
   "outputs": [],
   "source": [
    "!pip install torchinfo"
   ]
  },
  {
   "cell_type": "code",
   "execution_count": null,
   "metadata": {
    "id": "4xIaaiJsWzcz"
   },
   "outputs": [],
   "source": [
    "import torch\n",
    "import torch.nn as nn\n",
    "import torch.optim as optim\n",
    "from torchinfo import summary\n",
    "from torchvision import datasets, transforms\n",
    "from torch.utils.data import DataLoader, random_split"
   ]
  },
  {
   "cell_type": "code",
   "execution_count": null,
   "metadata": {
    "colab": {
     "base_uri": "https://localhost:8080/"
    },
    "executionInfo": {
     "elapsed": 4,
     "status": "ok",
     "timestamp": 1737296621469,
     "user": {
      "displayName": "Michal Gnacik",
      "userId": "05693853346063217104"
     },
     "user_tz": 0
    },
    "id": "kT5T2cuN8jmZ",
    "outputId": "c4d2b3b3-9f5c-4566-8a23-d19b5d91c5a1"
   },
   "outputs": [],
   "source": [
    "device: torch.device = torch.device(\"cuda\" if torch.cuda.is_available() else \"cpu\")\n",
    "print(f\"Using device: {device}\")"
   ]
  },
  {
   "cell_type": "code",
   "execution_count": null,
   "metadata": {
    "id": "CeV8ULzG8lM0"
   },
   "outputs": [],
   "source": [
    "import numpy as np\n",
    "import numpy.typing as npt\n",
    "import matplotlib.pyplot as plt\n",
    "from typing import Callable"
   ]
  },
  {
   "cell_type": "markdown",
   "metadata": {
    "id": "gH7ZkS7llf09"
   },
   "source": [
    "# Exercise 1\n",
    "In notebook 3, was is reasonable to stop the training after 5 epochs?\n",
    "We will check that. Your tasks are:\n",
    "\n",
    "1) Import the Fashion MNIST dataset.\n",
    "\n",
    "2) Create the same neural network used in Notebook 3.\n",
    "\n",
    "3) Traing it until it overfits (accuracy on test becumes smaller than the one on the training dataset).\n",
    "\n",
    "4) Then plot the history (loss and accuracy curves).\n",
    "\n",
    "5) Evaluate your model\n",
    "\n",
    "What is the maximum validation accuracy that you obtained? How many epochs did you train your network for?\n"
   ]
  },
  {
   "cell_type": "code",
   "execution_count": null,
   "metadata": {
    "id": "9S5o8ouX8s1R"
   },
   "outputs": [],
   "source": []
  },
  {
   "cell_type": "markdown",
   "metadata": {
    "id": "hnhz010EmPre"
   },
   "source": [
    "# Exercise 2\n",
    "\n",
    "Now build your own model for MNIST, experiment with\n",
    "- the number of nodes in the hidden layers,\n",
    "- the number of hidden layers,\n",
    "- the size of the learning rate.\n",
    "- activation functions in hidden layers, e.g. ReLu, LeakyReLU, SELU, GELU.\n",
    "- different optimizers: Adam, Adagrad, NAdam\n",
    "\n",
    "Here are some observations:\n",
    "\n",
    "- Underfitting occurs when there are too few neurons in the hidden layers\n",
    "- Too many neurons in the hidden layers may result in overfitting\n",
    "- The optimal number of nodes of the hidden layer is usually between the size of the input and size of the output layers.\n",
    "- One hidden layer is sufficient for the large majority of problems.\n",
    "- Adding more hidden layers slowers down the learning process (the convergence of SGD is slower).\n",
    "\n",
    "RULE-OF-THUMBS\n",
    "\n",
    "Number of hidden layers equals one; and the number of neurons in that layer is the mean of the neurons in the input and output layers.\n",
    "\n",
    "In general choosing the right architecture of the network depends on the data so you need to experiment!\n",
    "\n",
    "Note down the best accuracy you can get.\n",
    "\n",
    "Make and plot the confusion matrix for your best result.\n",
    "\n",
    "\n",
    "\n",
    "\n",
    "\n",
    "\n",
    "\n"
   ]
  },
  {
   "cell_type": "code",
   "execution_count": null,
   "metadata": {
    "id": "jHLnYPdw8xxz"
   },
   "outputs": [],
   "source": []
  }
 ],
 "metadata": {
  "accelerator": "GPU",
  "colab": {
   "provenance": []
  },
  "kernelspec": {
   "display_name": "Python 3",
   "name": "python3"
  },
  "language_info": {
   "name": "python"
  }
 },
 "nbformat": 4,
 "nbformat_minor": 0
}
